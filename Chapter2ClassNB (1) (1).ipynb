{
 "cells": [
  {
   "cell_type": "markdown",
   "id": "81b2bbc8",
   "metadata": {
    "slideshow": {
     "slide_type": "slide"
    }
   },
   "source": [
    "# Chapter 2: Variables and and Simple Data Types\n",
    "* A variable name is an **identifier**. \n",
    "* May consist of letters, digits and underscores (`_`) but may not begin with a digit. \n",
    "* Python is _case sensitive_. \n",
    "* Each value in Python has a type that indicates the kind of data the value represents. "
   ]
  },
  {
   "cell_type": "markdown",
   "id": "9f73fa21",
   "metadata": {
    "slideshow": {
     "slide_type": "slide"
    }
   },
   "source": [
    "####  Statement creates `x` and uses the **assignment symbol (`=`)** to give `x` a value. "
   ]
  },
  {
   "cell_type": "code",
   "execution_count": 2,
   "id": "92846dd3",
   "metadata": {},
   "outputs": [
    {
     "name": "stdout",
     "output_type": "stream",
     "text": [
      "Hello World\n"
     ]
    }
   ],
   "source": [
    "x_0= \"Hello World\"\n",
    "print(x_0)"
   ]
  },
  {
   "cell_type": "markdown",
   "id": "87338e34",
   "metadata": {},
   "source": [
    "### Print a message"
   ]
  },
  {
   "cell_type": "code",
   "execution_count": 3,
   "id": "3bace5f9",
   "metadata": {},
   "outputs": [
    {
     "name": "stdout",
     "output_type": "stream",
     "text": [
      "Welcome to the Python Programming language\n"
     ]
    }
   ],
   "source": [
    "_x0=\"Welcome to the Python Programming language\"\n",
    "print(_x0)"
   ]
  },
  {
   "cell_type": "markdown",
   "id": "89fec02b",
   "metadata": {},
   "source": [
    "### Try to print a Simple Message: Store a message in a variable, and then print that message."
   ]
  },
  {
   "cell_type": "code",
   "execution_count": 6,
   "id": "4bf85453",
   "metadata": {},
   "outputs": [],
   "source": [
    "# 0_x=\"Python\"\n",
    "# A variable can NOT start with a digit"
   ]
  },
  {
   "cell_type": "code",
   "execution_count": null,
   "id": "55bdd6b2",
   "metadata": {},
   "outputs": [],
   "source": []
  },
  {
   "cell_type": "code",
   "execution_count": null,
   "id": "5698773f",
   "metadata": {},
   "outputs": [],
   "source": []
  },
  {
   "cell_type": "markdown",
   "id": "5f8394d9",
   "metadata": {},
   "source": [
    "# Strings"
   ]
  },
  {
   "cell_type": "markdown",
   "id": "be203204",
   "metadata": {},
   "source": [
    "## A string is simply a series of characters. Anything inside quotes is considered a string in Python, and you can use `single` or `double quotes` around your strings\n",
    "### \"This is a string.\"\n",
    "### 'This is also a string.'"
   ]
  },
  {
   "cell_type": "markdown",
   "id": "adae7f7c",
   "metadata": {},
   "source": [
    "###  Build in String methods\n",
    "Directory: dir('  ')"
   ]
  },
  {
   "cell_type": "code",
   "execution_count": 7,
   "id": "f6103d72",
   "metadata": {},
   "outputs": [
    {
     "name": "stdout",
     "output_type": "stream",
     "text": [
      " Simple Message\n"
     ]
    }
   ],
   "source": [
    "message= \" Simple Message\"\n",
    "print(message)"
   ]
  },
  {
   "cell_type": "code",
   "execution_count": 1,
   "id": "972ece85",
   "metadata": {},
   "outputs": [
    {
     "data": {
      "text/plain": [
       "['__add__',\n",
       " '__class__',\n",
       " '__contains__',\n",
       " '__delattr__',\n",
       " '__dir__',\n",
       " '__doc__',\n",
       " '__eq__',\n",
       " '__format__',\n",
       " '__ge__',\n",
       " '__getattribute__',\n",
       " '__getitem__',\n",
       " '__getnewargs__',\n",
       " '__gt__',\n",
       " '__hash__',\n",
       " '__init__',\n",
       " '__init_subclass__',\n",
       " '__iter__',\n",
       " '__le__',\n",
       " '__len__',\n",
       " '__lt__',\n",
       " '__mod__',\n",
       " '__mul__',\n",
       " '__ne__',\n",
       " '__new__',\n",
       " '__reduce__',\n",
       " '__reduce_ex__',\n",
       " '__repr__',\n",
       " '__rmod__',\n",
       " '__rmul__',\n",
       " '__setattr__',\n",
       " '__sizeof__',\n",
       " '__str__',\n",
       " '__subclasshook__',\n",
       " 'capitalize',\n",
       " 'casefold',\n",
       " 'center',\n",
       " 'count',\n",
       " 'encode',\n",
       " 'endswith',\n",
       " 'expandtabs',\n",
       " 'find',\n",
       " 'format',\n",
       " 'format_map',\n",
       " 'index',\n",
       " 'isalnum',\n",
       " 'isalpha',\n",
       " 'isascii',\n",
       " 'isdecimal',\n",
       " 'isdigit',\n",
       " 'isidentifier',\n",
       " 'islower',\n",
       " 'isnumeric',\n",
       " 'isprintable',\n",
       " 'isspace',\n",
       " 'istitle',\n",
       " 'isupper',\n",
       " 'join',\n",
       " 'ljust',\n",
       " 'lower',\n",
       " 'lstrip',\n",
       " 'maketrans',\n",
       " 'partition',\n",
       " 'replace',\n",
       " 'rfind',\n",
       " 'rindex',\n",
       " 'rjust',\n",
       " 'rpartition',\n",
       " 'rsplit',\n",
       " 'rstrip',\n",
       " 'split',\n",
       " 'splitlines',\n",
       " 'startswith',\n",
       " 'strip',\n",
       " 'swapcase',\n",
       " 'title',\n",
       " 'translate',\n",
       " 'upper',\n",
       " 'zfill']"
      ]
     },
     "execution_count": 1,
     "metadata": {},
     "output_type": "execute_result"
    }
   ],
   "source": [
    "dir(\" \")"
   ]
  },
  {
   "cell_type": "code",
   "execution_count": 11,
   "id": "691e6b3a",
   "metadata": {},
   "outputs": [
    {
     "name": "stdout",
     "output_type": "stream",
     "text": [
      "PythOn PRoGraMiNG LanGuage\n",
      "The Upper Case:  PYTHON PROGRAMING LANGUAGE\n"
     ]
    }
   ],
   "source": [
    "# make uppercase\n",
    "message=\"PythOn PRoGraMiNG LanGuage\"\n",
    "print(message)\n",
    "print(\"The Upper Case: \",message.upper())"
   ]
  },
  {
   "cell_type": "code",
   "execution_count": 13,
   "id": "be0d6351",
   "metadata": {},
   "outputs": [
    {
     "name": "stdout",
     "output_type": "stream",
     "text": [
      "The Lower Case:  python programing language\n"
     ]
    }
   ],
   "source": [
    "# make lowercase\n",
    "print(\"The Lower Case: \",message.lower())"
   ]
  },
  {
   "cell_type": "code",
   "execution_count": 14,
   "id": "bdcfb17f",
   "metadata": {},
   "outputs": [
    {
     "name": "stdout",
     "output_type": "stream",
     "text": [
      "the Capitalized case:  Python programing language\n"
     ]
    }
   ],
   "source": [
    "# capitalize\n",
    "\n",
    "print(\"the Capitalized case: \",message.capitalize())"
   ]
  },
  {
   "cell_type": "code",
   "execution_count": 15,
   "id": "39359e69",
   "metadata": {},
   "outputs": [
    {
     "name": "stdout",
     "output_type": "stream",
     "text": [
      "The Title Case:  Python Programing Language\n"
     ]
    }
   ],
   "source": [
    "# title\n",
    "print(\"The Title Case: \",message.title())"
   ]
  },
  {
   "cell_type": "code",
   "execution_count": 19,
   "id": "98ccee67",
   "metadata": {},
   "outputs": [
    {
     "name": "stdout",
     "output_type": "stream",
     "text": [
      "Welcome to python programing language\n"
     ]
    }
   ],
   "source": [
    "# Concatination\n",
    "message_new=message.lower()\n",
    "print(\"Welcome to \" + message_new)"
   ]
  },
  {
   "cell_type": "code",
   "execution_count": 22,
   "id": "c157d46f",
   "metadata": {},
   "outputs": [
    {
     "name": "stdout",
     "output_type": "stream",
     "text": [
      "python programing language\n"
     ]
    },
    {
     "data": {
      "text/plain": [
       "26"
      ]
     },
     "execution_count": 22,
     "metadata": {},
     "output_type": "execute_result"
    }
   ],
   "source": [
    "# length\n",
    "message_new\n",
    "print(message_new)\n",
    "len(message_new)"
   ]
  },
  {
   "cell_type": "code",
   "execution_count": null,
   "id": "4579678b",
   "metadata": {},
   "outputs": [],
   "source": []
  },
  {
   "cell_type": "markdown",
   "id": "5be05c33",
   "metadata": {},
   "source": [
    "### Format the string using f-string\n",
    "`formatted string literals,` **f-strings** are string literals that have an f at the beginning and curly braces containing expressions that will be replaced with their values."
   ]
  },
  {
   "cell_type": "code",
   "execution_count": 24,
   "id": "8a1254b0",
   "metadata": {},
   "outputs": [],
   "source": [
    "name= \"Sam\"\n",
    "age=20\n"
   ]
  },
  {
   "cell_type": "code",
   "execution_count": 26,
   "id": "8f5c9124",
   "metadata": {},
   "outputs": [
    {
     "name": "stdout",
     "output_type": "stream",
     "text": [
      "The Name Is Sam\n"
     ]
    }
   ],
   "source": [
    "print(\"The Name Is \"+ name)"
   ]
  },
  {
   "cell_type": "code",
   "execution_count": 29,
   "id": "846ba0f1",
   "metadata": {},
   "outputs": [
    {
     "name": "stdout",
     "output_type": "stream",
     "text": [
      "The age is 20\n"
     ]
    }
   ],
   "source": [
    "# print(\"The Age Is \" +age)\n",
    "# Type error as we can not concatinate a string with a number/ integer\n",
    "print(\"The age is\",age)"
   ]
  },
  {
   "cell_type": "code",
   "execution_count": 30,
   "id": "ac1df096",
   "metadata": {},
   "outputs": [
    {
     "name": "stdout",
     "output_type": "stream",
     "text": [
      "The name is Sam. The age is 20\n"
     ]
    }
   ],
   "source": [
    "print(f\"The name is {name}. The age is {age}\")"
   ]
  },
  {
   "cell_type": "code",
   "execution_count": 32,
   "id": "69ddf2f9",
   "metadata": {},
   "outputs": [
    {
     "name": "stdout",
     "output_type": "stream",
     "text": [
      "The First number is 45. The second number is 57\n",
      "The multiplication of first and second number is 2565\n"
     ]
    }
   ],
   "source": [
    "number1= 45\n",
    "number2= 57\n",
    "print(f\"The First number is {number1}. The second number is {number2}\")\n",
    "print(f\"The multiplication of first and second number is {number1*number2}\")"
   ]
  },
  {
   "cell_type": "markdown",
   "id": "9bdf8bca",
   "metadata": {},
   "source": [
    "## Practice1:\n",
    "1. Personal Message: Store a person’s name in a variable, and print a message\n",
    "to that person. Your message should be simple, such as, “Hello Eric,\n",
    "would you like to learn some Python today?”\n",
    "2. Name Cases: Store a person’s name in a variable, and then print that person’s\n",
    "name in lowercase, uppercase, and titlecase."
   ]
  },
  {
   "cell_type": "markdown",
   "id": "1f7191b0",
   "metadata": {},
   "source": [
    "## Adding Whitespace to Strings with Tabs or Newlines or  quotation\n",
    "* A backslash (`\\`) in a string is the **escape character**. \n",
    "* The backslash and the character immediately following it form an **escape sequence**. \n",
    "\n",
    "#### 2.4.2 Other Escape Sequences\n",
    "| Escape sequence | Description\n",
    "| :------- | :------------\n",
    "| `\\n` | Insert a newline character in a string. When the string is displayed, for each newline, move the screen cursor to the beginning of the next line. \n",
    "| `\\t` | Insert a horizontal tab. When the string is displayed, for each tab, move the screen cursor to the next tab stop. \n",
    "| `\\\\` | Insert a backslash character in a string.\n",
    "| `\\\"` | Insert a double quote character in a string.\n",
    "| `\\'` | Insert a single quote character in a string."
   ]
  },
  {
   "cell_type": "code",
   "execution_count": 43,
   "id": "cec8c27b",
   "metadata": {},
   "outputs": [
    {
     "name": "stdout",
     "output_type": "stream",
     "text": [
      "Hey AJ, your awesome and killing it in class and wrestling!\n"
     ]
    }
   ],
   "source": [
    "name=\"AJ\"\n",
    "print(f\"Hey {name}, your awesome and killing it in class and wrestling!\")"
   ]
  },
  {
   "cell_type": "code",
   "execution_count": 46,
   "id": "bd830981",
   "metadata": {},
   "outputs": [
    {
     "name": "stdout",
     "output_type": "stream",
     "text": [
      "aj\n",
      "AJ\n",
      "Aj\n"
     ]
    }
   ],
   "source": [
    "name=\"AJ\"\n",
    "print(name.lower())\n",
    "print(name.upper())\n",
    "print(name.title())"
   ]
  },
  {
   "cell_type": "markdown",
   "id": "59e57742",
   "metadata": {},
   "source": [
    "## Useful methods for split a string"
   ]
  },
  {
   "cell_type": "code",
   "execution_count": 47,
   "id": "972a849e",
   "metadata": {},
   "outputs": [
    {
     "name": "stdout",
     "output_type": "stream",
     "text": [
      "Insert a newline character in a string.\n"
     ]
    }
   ],
   "source": [
    "print(\"Insert a newline character in a string.\")"
   ]
  },
  {
   "cell_type": "code",
   "execution_count": 49,
   "id": "a30d3f33",
   "metadata": {},
   "outputs": [
    {
     "name": "stdout",
     "output_type": "stream",
     "text": [
      "Insert \n",
      "a \n",
      "newline \n",
      "character \n",
      "in \n",
      "a \n",
      "string.\n"
     ]
    }
   ],
   "source": [
    "print(\"Insert \\na \\nnewline \\ncharacter \\nin \\na \\nstring.\")"
   ]
  },
  {
   "cell_type": "code",
   "execution_count": 50,
   "id": "64d6d026",
   "metadata": {},
   "outputs": [
    {
     "name": "stdout",
     "output_type": "stream",
     "text": [
      "Insert \ta \tnewline \tcharacter \tin \ta \tstring.\n"
     ]
    }
   ],
   "source": [
    "print(\"Insert \\ta \\tnewline \\tcharacter \\tin \\ta \\tstring.\")"
   ]
  },
  {
   "cell_type": "code",
   "execution_count": 51,
   "id": "a98d7290",
   "metadata": {},
   "outputs": [
    {
     "name": "stdout",
     "output_type": "stream",
     "text": [
      "The student's name is : Eric\n"
     ]
    }
   ],
   "source": [
    "print(\"The student's name is : Eric\")"
   ]
  },
  {
   "cell_type": "code",
   "execution_count": 54,
   "id": "33fcdb4a",
   "metadata": {},
   "outputs": [
    {
     "name": "stdout",
     "output_type": "stream",
     "text": [
      "The Student's name is : Eric.\n"
     ]
    }
   ],
   "source": [
    "print('The Student\\'s name is : Eric.')"
   ]
  },
  {
   "cell_type": "code",
   "execution_count": 55,
   "id": "878aea11",
   "metadata": {},
   "outputs": [
    {
     "data": {
      "text/plain": [
       "['__add__',\n",
       " '__class__',\n",
       " '__contains__',\n",
       " '__delattr__',\n",
       " '__dir__',\n",
       " '__doc__',\n",
       " '__eq__',\n",
       " '__format__',\n",
       " '__ge__',\n",
       " '__getattribute__',\n",
       " '__getitem__',\n",
       " '__getnewargs__',\n",
       " '__getstate__',\n",
       " '__gt__',\n",
       " '__hash__',\n",
       " '__init__',\n",
       " '__init_subclass__',\n",
       " '__iter__',\n",
       " '__le__',\n",
       " '__len__',\n",
       " '__lt__',\n",
       " '__mod__',\n",
       " '__mul__',\n",
       " '__ne__',\n",
       " '__new__',\n",
       " '__reduce__',\n",
       " '__reduce_ex__',\n",
       " '__repr__',\n",
       " '__rmod__',\n",
       " '__rmul__',\n",
       " '__setattr__',\n",
       " '__sizeof__',\n",
       " '__str__',\n",
       " '__subclasshook__',\n",
       " 'capitalize',\n",
       " 'casefold',\n",
       " 'center',\n",
       " 'count',\n",
       " 'encode',\n",
       " 'endswith',\n",
       " 'expandtabs',\n",
       " 'find',\n",
       " 'format',\n",
       " 'format_map',\n",
       " 'index',\n",
       " 'isalnum',\n",
       " 'isalpha',\n",
       " 'isascii',\n",
       " 'isdecimal',\n",
       " 'isdigit',\n",
       " 'isidentifier',\n",
       " 'islower',\n",
       " 'isnumeric',\n",
       " 'isprintable',\n",
       " 'isspace',\n",
       " 'istitle',\n",
       " 'isupper',\n",
       " 'join',\n",
       " 'ljust',\n",
       " 'lower',\n",
       " 'lstrip',\n",
       " 'maketrans',\n",
       " 'partition',\n",
       " 'removeprefix',\n",
       " 'removesuffix',\n",
       " 'replace',\n",
       " 'rfind',\n",
       " 'rindex',\n",
       " 'rjust',\n",
       " 'rpartition',\n",
       " 'rsplit',\n",
       " 'rstrip',\n",
       " 'split',\n",
       " 'splitlines',\n",
       " 'startswith',\n",
       " 'strip',\n",
       " 'swapcase',\n",
       " 'title',\n",
       " 'translate',\n",
       " 'upper',\n",
       " 'zfill']"
      ]
     },
     "execution_count": 55,
     "metadata": {},
     "output_type": "execute_result"
    }
   ],
   "source": [
    "dir(\" \")"
   ]
  },
  {
   "cell_type": "code",
   "execution_count": 59,
   "id": "172ecf84",
   "metadata": {},
   "outputs": [
    {
     "name": "stdout",
     "output_type": "stream",
     "text": [
      "PythOn PRoGraMiNG LanGuage\n"
     ]
    },
    {
     "data": {
      "text/plain": [
       "['PythOn', 'PRoGraMiNG', 'LanGuage']"
      ]
     },
     "execution_count": 59,
     "metadata": {},
     "output_type": "execute_result"
    }
   ],
   "source": [
    "print(message)\n",
    "message.split(sep= \" \")\n",
    "#message.split(sep=\" \")"
   ]
  },
  {
   "cell_type": "code",
   "execution_count": 57,
   "id": "22032818",
   "metadata": {},
   "outputs": [
    {
     "data": {
      "text/plain": [
       "['', 'ythOn ', 'RoGraMiNG LanGuage']"
      ]
     },
     "execution_count": 57,
     "metadata": {},
     "output_type": "execute_result"
    }
   ],
   "source": [
    "message.split(sep=\"P\")"
   ]
  },
  {
   "cell_type": "markdown",
   "id": "767a741a",
   "metadata": {},
   "source": [
    "## Useful methods for strip a string\n",
    "- lstrip\n",
    "- rstrip\n",
    "- strip"
   ]
  },
  {
   "cell_type": "code",
   "execution_count": 61,
   "id": "b2ad3242",
   "metadata": {},
   "outputs": [],
   "source": [
    "message1= \" Python Programming Language \""
   ]
  },
  {
   "cell_type": "code",
   "execution_count": null,
   "id": "f9590db9",
   "metadata": {},
   "outputs": [],
   "source": [
    "message1"
   ]
  },
  {
   "cell_type": "markdown",
   "id": "59666fd1",
   "metadata": {},
   "source": [
    "## Practice2\n",
    "1. Stripping Names: Store a person’s name, and include some whitespace characters at the beginning and end of the name. Make sure you use each character combination, \"\\t\" and \"\\n\", at least once.\n",
    "Print the name once, so the whitespace around the name is displayed.\n",
    "Then print the name using each of the three stripping functions, lstrip(),\n",
    "rstrip(), and strip()."
   ]
  },
  {
   "cell_type": "code",
   "execution_count": 1,
   "id": "85b9a82a",
   "metadata": {},
   "outputs": [
    {
     "name": "stdout",
     "output_type": "stream",
     "text": [
      "Python Programming Language\n"
     ]
    }
   ],
   "source": [
    "#message_new.replace(`python`,`r`)\n",
    "message= \"Python Programming Language\"\n",
    "message=message.replace('python', 'java')\n",
    "print(message)\n"
   ]
  },
  {
   "cell_type": "markdown",
   "id": "7cb5c2e0",
   "metadata": {},
   "source": [
    "#### Replacing words or characters of a string"
   ]
  },
  {
   "cell_type": "markdown",
   "id": "7a2ff52e",
   "metadata": {},
   "source": [
    "# Number"
   ]
  },
  {
   "cell_type": "markdown",
   "id": "7ed88df4",
   "metadata": {},
   "source": [
    "# Data Types\n",
    "* `float` (floating point) - used for real numbers.\n",
    "* `int` (integer) - used for integers."
   ]
  },
  {
   "cell_type": "markdown",
   "id": "c37ef37a",
   "metadata": {},
   "source": [
    "## Arithmetic Operator\n",
    "| Python operation | Arithmetic operator | Python expression\n",
    "| :-------- | :-------- | :-------- \n",
    "| Addition | `+`  | `f + 7` \n",
    "| Subtraction | `–` | `p - c` \n",
    "| Multiplication | `*` | `b * m` \n",
    "| Exponentiation | `**` |  `x ** y` \n",
    "| True division | `/` | `x / y` \n",
    "| Floor division | `//` | `x // y` \n",
    "| Remainder (modulo) | `%` | `r % s` \n",
    "\n",
    "`Floor division` is an operation in Python that divides two numbers and rounds the result down to the nearest integer."
   ]
  },
  {
   "cell_type": "code",
   "execution_count": 2,
   "id": "0deea5b4",
   "metadata": {},
   "outputs": [
    {
     "data": {
      "text/plain": [
       "1"
      ]
     },
     "execution_count": 2,
     "metadata": {},
     "output_type": "execute_result"
    }
   ],
   "source": [
    "# modulo\n",
    "9%4"
   ]
  },
  {
   "cell_type": "code",
   "execution_count": 4,
   "id": "3abdb7ed",
   "metadata": {},
   "outputs": [
    {
     "data": {
      "text/plain": [
       "2"
      ]
     },
     "execution_count": 4,
     "metadata": {},
     "output_type": "execute_result"
    }
   ],
   "source": [
    "#floor division\n",
    "9//4"
   ]
  },
  {
   "cell_type": "markdown",
   "id": "edd14df2",
   "metadata": {},
   "source": [
    "## Avoiding type errors witht he str() Funtion\n",
    "# How to concatenate an integer with a string"
   ]
  },
  {
   "cell_type": "code",
   "execution_count": 7,
   "id": "4fec3462",
   "metadata": {},
   "outputs": [
    {
     "name": "stdout",
     "output_type": "stream",
     "text": [
      "The Name is: Ella. The age is 20\n"
     ]
    }
   ],
   "source": [
    "name= \"Ella\"\n",
    "age= 20\n",
    "print(\"The Name is: \" + name + \". The age is \" + str(age))"
   ]
  },
  {
   "cell_type": "code",
   "execution_count": 8,
   "id": "d5a698c2",
   "metadata": {},
   "outputs": [
    {
     "data": {
      "text/plain": [
       "int"
      ]
     },
     "execution_count": 8,
     "metadata": {},
     "output_type": "execute_result"
    }
   ],
   "source": [
    "type(age)"
   ]
  },
  {
   "cell_type": "code",
   "execution_count": 9,
   "id": "93f54fc5",
   "metadata": {},
   "outputs": [
    {
     "data": {
      "text/plain": [
       "str"
      ]
     },
     "execution_count": 9,
     "metadata": {},
     "output_type": "execute_result"
    }
   ],
   "source": [
    "type(name)"
   ]
  },
  {
   "cell_type": "code",
   "execution_count": 10,
   "id": "64c80471",
   "metadata": {},
   "outputs": [
    {
     "data": {
      "text/plain": [
       "str"
      ]
     },
     "execution_count": 10,
     "metadata": {},
     "output_type": "execute_result"
    }
   ],
   "source": [
    "type(str(age))"
   ]
  },
  {
   "cell_type": "markdown",
   "id": "e05b5c26",
   "metadata": {},
   "source": [
    "## Getting Input from the User\n",
    "* Built-in **`input` function** requests and obtains user input."
   ]
  },
  {
   "cell_type": "code",
   "execution_count": 15,
   "id": "9dacc868",
   "metadata": {},
   "outputs": [
    {
     "ename": "KeyboardInterrupt",
     "evalue": "Interrupted by user",
     "output_type": "error",
     "traceback": [
      "\u001b[1;31m---------------------------------------------------------------------------\u001b[0m",
      "\u001b[1;31mKeyboardInterrupt\u001b[0m                         Traceback (most recent call last)",
      "Cell \u001b[1;32mIn[15], line 1\u001b[0m\n\u001b[1;32m----> 1\u001b[0m flower\u001b[38;5;241m=\u001b[39m\u001b[38;5;28minput\u001b[39m(\u001b[38;5;124m\"\u001b[39m\u001b[38;5;124mEnter a flowers name: \u001b[39m\u001b[38;5;124m\"\u001b[39m)\n",
      "File \u001b[1;32m~\\anaconda3\\Lib\\site-packages\\ipykernel\\kernelbase.py:1175\u001b[0m, in \u001b[0;36mKernel.raw_input\u001b[1;34m(self, prompt)\u001b[0m\n\u001b[0;32m   1171\u001b[0m \u001b[38;5;28;01mif\u001b[39;00m \u001b[38;5;129;01mnot\u001b[39;00m \u001b[38;5;28mself\u001b[39m\u001b[38;5;241m.\u001b[39m_allow_stdin:\n\u001b[0;32m   1172\u001b[0m     \u001b[38;5;28;01mraise\u001b[39;00m StdinNotImplementedError(\n\u001b[0;32m   1173\u001b[0m         \u001b[38;5;124m\"\u001b[39m\u001b[38;5;124mraw_input was called, but this frontend does not support input requests.\u001b[39m\u001b[38;5;124m\"\u001b[39m\n\u001b[0;32m   1174\u001b[0m     )\n\u001b[1;32m-> 1175\u001b[0m \u001b[38;5;28;01mreturn\u001b[39;00m \u001b[38;5;28mself\u001b[39m\u001b[38;5;241m.\u001b[39m_input_request(\n\u001b[0;32m   1176\u001b[0m     \u001b[38;5;28mstr\u001b[39m(prompt),\n\u001b[0;32m   1177\u001b[0m     \u001b[38;5;28mself\u001b[39m\u001b[38;5;241m.\u001b[39m_parent_ident[\u001b[38;5;124m\"\u001b[39m\u001b[38;5;124mshell\u001b[39m\u001b[38;5;124m\"\u001b[39m],\n\u001b[0;32m   1178\u001b[0m     \u001b[38;5;28mself\u001b[39m\u001b[38;5;241m.\u001b[39mget_parent(\u001b[38;5;124m\"\u001b[39m\u001b[38;5;124mshell\u001b[39m\u001b[38;5;124m\"\u001b[39m),\n\u001b[0;32m   1179\u001b[0m     password\u001b[38;5;241m=\u001b[39m\u001b[38;5;28;01mFalse\u001b[39;00m,\n\u001b[0;32m   1180\u001b[0m )\n",
      "File \u001b[1;32m~\\anaconda3\\Lib\\site-packages\\ipykernel\\kernelbase.py:1217\u001b[0m, in \u001b[0;36mKernel._input_request\u001b[1;34m(self, prompt, ident, parent, password)\u001b[0m\n\u001b[0;32m   1214\u001b[0m             \u001b[38;5;28;01mbreak\u001b[39;00m\n\u001b[0;32m   1215\u001b[0m \u001b[38;5;28;01mexcept\u001b[39;00m \u001b[38;5;167;01mKeyboardInterrupt\u001b[39;00m:\n\u001b[0;32m   1216\u001b[0m     \u001b[38;5;66;03m# re-raise KeyboardInterrupt, to truncate traceback\u001b[39;00m\n\u001b[1;32m-> 1217\u001b[0m     \u001b[38;5;28;01mraise\u001b[39;00m \u001b[38;5;167;01mKeyboardInterrupt\u001b[39;00m(\u001b[38;5;124m\"\u001b[39m\u001b[38;5;124mInterrupted by user\u001b[39m\u001b[38;5;124m\"\u001b[39m) \u001b[38;5;28;01mfrom\u001b[39;00m \u001b[38;5;28;01mNone\u001b[39;00m\n\u001b[0;32m   1218\u001b[0m \u001b[38;5;28;01mexcept\u001b[39;00m \u001b[38;5;167;01mException\u001b[39;00m:\n\u001b[0;32m   1219\u001b[0m     \u001b[38;5;28mself\u001b[39m\u001b[38;5;241m.\u001b[39mlog\u001b[38;5;241m.\u001b[39mwarning(\u001b[38;5;124m\"\u001b[39m\u001b[38;5;124mInvalid Message:\u001b[39m\u001b[38;5;124m\"\u001b[39m, exc_info\u001b[38;5;241m=\u001b[39m\u001b[38;5;28;01mTrue\u001b[39;00m)\n",
      "\u001b[1;31mKeyboardInterrupt\u001b[0m: Interrupted by user"
     ]
    }
   ],
   "source": [
    "flower=input(\"Enter a flowers name: \")"
   ]
  },
  {
   "cell_type": "code",
   "execution_count": null,
   "id": "938db263",
   "metadata": {},
   "outputs": [],
   "source": [
    "first_name= input(\"Enter your first name: \")\n",
    "last_name= input(\"Enter your last name: \")\n",
    "print(f\"the full name: {first_name} {last_name}\")"
   ]
  },
  {
   "cell_type": "markdown",
   "id": "165bd5f8",
   "metadata": {},
   "source": [
    "## Practice3 \n",
    "1. Write addition, subtraction, multiplication, and division\n",
    "operations that each result in the number 91. Be sure to enclose your operations\n",
    "in print statements to see the results. You should create four lines that look\n",
    "like this:\n",
    "print(53 + 38)\n",
    "Your output should simply be four lines with the number 91 appearing once\n",
    "on each line.\n",
    "2. Favorite Number: Store your favorite number in a variable. Then, using\n",
    "that variable, create a message that reveals your favorite number. Print that\n",
    "message."
   ]
  },
  {
   "cell_type": "code",
   "execution_count": null,
   "id": "77ca3ed0",
   "metadata": {},
   "outputs": [],
   "source": [
    "print(f\"The addition: {53+38})"
   ]
  },
  {
   "cell_type": "code",
   "execution_count": 12,
   "id": "b422ee4b",
   "metadata": {},
   "outputs": [
    {
     "name": "stdout",
     "output_type": "stream",
     "text": [
      "The Multiplication: 91\n"
     ]
    }
   ],
   "source": [
    "print(f\"The Multiplication: {1*91}\")"
   ]
  },
  {
   "cell_type": "code",
   "execution_count": 13,
   "id": "414fdaac",
   "metadata": {},
   "outputs": [
    {
     "name": "stdout",
     "output_type": "stream",
     "text": [
      "The Subtraction: 91\n"
     ]
    }
   ],
   "source": [
    "print(f\"The Subtraction: {100-9}\")"
   ]
  },
  {
   "cell_type": "code",
   "execution_count": 14,
   "id": "7c77de32",
   "metadata": {},
   "outputs": [
    {
     "name": "stdout",
     "output_type": "stream",
     "text": [
      "The division: 91.0\n"
     ]
    }
   ],
   "source": [
    "print(f\"The division: {182/2}\")"
   ]
  },
  {
   "cell_type": "code",
   "execution_count": null,
   "id": "76431f51",
   "metadata": {},
   "outputs": [],
   "source": []
  },
  {
   "cell_type": "code",
   "execution_count": null,
   "id": "56f284f7",
   "metadata": {},
   "outputs": [],
   "source": []
  },
  {
   "cell_type": "markdown",
   "id": "476c6426",
   "metadata": {},
   "source": [
    "## Getting an Integer/ Float from the User\n",
    "* If you need an integer, convert the string to an integer using the built-in **`int` / `float` function**. "
   ]
  },
  {
   "cell_type": "code",
   "execution_count": 16,
   "id": "1905f791",
   "metadata": {},
   "outputs": [
    {
     "name": "stdout",
     "output_type": "stream",
     "text": [
      "Enter an integer: 50\n",
      "Enter a floating point number: 30\n",
      "The first number 50. The second number 30.0.\n",
      "The multiplication result is : 1500.0\n"
     ]
    }
   ],
   "source": [
    "number1=int(input(\"Enter an integer: \"))\n",
    "number2= float(input(\"Enter a floating point number: \"))\n",
    "print(f\"The first number {number1}. The second number {number2}.\")\n",
    "print(f\"The multiplication result is : {number1*number2}\")"
   ]
  },
  {
   "cell_type": "code",
   "execution_count": 20,
   "id": "a8b6814e",
   "metadata": {},
   "outputs": [
    {
     "name": "stdout",
     "output_type": "stream",
     "text": [
      "Enter an integer number: 20\n",
      "20\n"
     ]
    }
   ],
   "source": [
    "number3=int(input(\"Enter an integer number: \"))\n",
    "print(number3)"
   ]
  },
  {
   "cell_type": "markdown",
   "id": "6ff42bfa",
   "metadata": {},
   "source": [
    "## Checking the data type using `type` function"
   ]
  },
  {
   "cell_type": "code",
   "execution_count": 21,
   "id": "e1b73434",
   "metadata": {},
   "outputs": [
    {
     "data": {
      "text/plain": [
       "int"
      ]
     },
     "execution_count": 21,
     "metadata": {},
     "output_type": "execute_result"
    }
   ],
   "source": [
    "type(number3)"
   ]
  },
  {
   "cell_type": "code",
   "execution_count": null,
   "id": "5c848906",
   "metadata": {},
   "outputs": [],
   "source": []
  },
  {
   "cell_type": "markdown",
   "id": "fc6e7e28",
   "metadata": {},
   "source": [
    "## Errors in Python\n",
    "When an error occurs in your program, the Python interpreter does its\n",
    "best to help you figure out where the problem is. The interpreter provides\n",
    "a traceback when a program cannot run successfully. A traceback is a record\n",
    "of where the interpreter ran into trouble when trying to execute your code.\n",
    "Errors can be classified into three major groups:\n",
    "- Syntax errors\n",
    "- Runtime errors\n",
    "- Logical errors"
   ]
  },
  {
   "cell_type": "markdown",
   "id": "7fe3220f",
   "metadata": {},
   "source": [
    "### Syntax error.\n",
    "- Python will find these kinds of errors when it tries to parse your program, and exit with an error message without running anything. \n",
    "- Syntax errors are mistakes in the use of the Python language, and are analogous to spelling or grammar mistakes in a language like English: for example, the sentence Would you some tea? does not make sense – it is missing a verb.\n"
   ]
  },
  {
   "cell_type": "markdown",
   "id": "88840cff",
   "metadata": {},
   "source": [
    "### Example:\n",
    "- leaving out a keyword\n",
    "- putting a keyword in the wrong place\n",
    "- leaving out a symbol, such as a colon, comma or brackets\n",
    "- misspelling a keyword\n",
    "- incorrect indentation\n",
    "- empty block"
   ]
  },
  {
   "cell_type": "markdown",
   "id": "b5ce828a",
   "metadata": {},
   "source": [
    "### Examples: \n",
    "- division by zero.\n",
    "- performing an operation on incompatible types.\n",
    "- using an identifier which has not been defined.\n",
    "- accessing a list element, dictionary value or object attribute which doesn't exist.\n",
    "- trying to access a file which doesn't exist."
   ]
  },
  {
   "cell_type": "code",
   "execution_count": 26,
   "id": "1b4b64c3",
   "metadata": {},
   "outputs": [
    {
     "name": "stdout",
     "output_type": "stream",
     "text": [
      "This is an error message\n"
     ]
    }
   ],
   "source": [
    "#print(\"This is an error message)\n",
    "# fix\n",
    "print(\"This is an error message\")"
   ]
  },
  {
   "cell_type": "code",
   "execution_count": 28,
   "id": "92353ef9",
   "metadata": {},
   "outputs": [],
   "source": [
    "#len('hello')=5"
   ]
  },
  {
   "cell_type": "code",
   "execution_count": 29,
   "id": "c241756e",
   "metadata": {},
   "outputs": [
    {
     "ename": "ZeroDivisionError",
     "evalue": "division by zero",
     "output_type": "error",
     "traceback": [
      "\u001b[1;31m---------------------------------------------------------------------------\u001b[0m",
      "\u001b[1;31mZeroDivisionError\u001b[0m                         Traceback (most recent call last)",
      "Cell \u001b[1;32mIn[29], line 1\u001b[0m\n\u001b[1;32m----> 1\u001b[0m \u001b[38;5;28mprint\u001b[39m(\u001b[38;5;241m6\u001b[39m\u001b[38;5;241m/\u001b[39m\u001b[38;5;241m0\u001b[39m)\n",
      "\u001b[1;31mZeroDivisionError\u001b[0m: division by zero"
     ]
    }
   ],
   "source": [
    "print(6/0)"
   ]
  },
  {
   "cell_type": "markdown",
   "id": "f10a50b1",
   "metadata": {},
   "source": [
    "## Runtime error\n",
    "- A program with a runtime error is one that passed the interpreter’s syntax checks, and started to execute. \n",
    "- However, during the execution of one of the statements in the program, an error occurred that caused the interpreter to stop executing the program and display an error message. \n",
    "- Runtime errors are also called `exceptions` because they usually indicate that something exceptional (and bad) has happened."
   ]
  },
  {
   "cell_type": "code",
   "execution_count": 34,
   "id": "6a990b7a",
   "metadata": {},
   "outputs": [
    {
     "name": "stdout",
     "output_type": "stream",
     "text": [
      "Enter the amount you spent: 50\n"
     ]
    },
    {
     "ename": "NameError",
     "evalue": "name 'Total' is not defined",
     "output_type": "error",
     "traceback": [
      "\u001b[1;31m---------------------------------------------------------------------------\u001b[0m",
      "\u001b[1;31mNameError\u001b[0m                                 Traceback (most recent call last)",
      "Cell \u001b[1;32mIn[34], line 2\u001b[0m\n\u001b[0;32m      1\u001b[0m total\u001b[38;5;241m=\u001b[39m \u001b[38;5;28mfloat\u001b[39m(\u001b[38;5;28minput\u001b[39m(\u001b[38;5;124m\"\u001b[39m\u001b[38;5;124mEnter the amount you spent: \u001b[39m\u001b[38;5;124m\"\u001b[39m))\n\u001b[1;32m----> 2\u001b[0m tax\u001b[38;5;241m=\u001b[39m\u001b[38;5;241m.06\u001b[39m\u001b[38;5;241m*\u001b[39mTotal\n\u001b[0;32m      3\u001b[0m \u001b[38;5;28mprint\u001b[39m(\u001b[38;5;124mf\u001b[39m\u001b[38;5;124m\"\u001b[39m\u001b[38;5;124mThe subtotal is: \u001b[39m\u001b[38;5;132;01m{\u001b[39;00mtotal\u001b[38;5;241m+\u001b[39mtax\u001b[38;5;132;01m}\u001b[39;00m\u001b[38;5;124m\"\u001b[39m)\n",
      "\u001b[1;31mNameError\u001b[0m: name 'Total' is not defined"
     ]
    }
   ],
   "source": [
    "total= float(input(\"Enter the amount you spent: \"))\n",
    "tax=.06*Total\n",
    "print(f\"The subtotal is: {total+tax}\")"
   ]
  },
  {
   "cell_type": "code",
   "execution_count": null,
   "id": "7176f581",
   "metadata": {},
   "outputs": [],
   "source": []
  },
  {
   "cell_type": "code",
   "execution_count": null,
   "id": "15f63562",
   "metadata": {},
   "outputs": [],
   "source": []
  },
  {
   "cell_type": "code",
   "execution_count": null,
   "id": "d1402fc5",
   "metadata": {},
   "outputs": [],
   "source": []
  },
  {
   "cell_type": "code",
   "execution_count": null,
   "id": "7b172df3",
   "metadata": {},
   "outputs": [],
   "source": []
  },
  {
   "cell_type": "markdown",
   "id": "6dec365d",
   "metadata": {},
   "source": [
    "### Logical error\n",
    "- Logical errors are the most difficult to fix. They occur when the program runs without crashing, but produces an incorrect result. \n",
    "- The error is caused by a mistake in the program’s logic. \n",
    "- You won’t get an error message, because no syntax or runtime error has occurred. \n",
    "- You will have to find the problem on your own by reviewing all the relevant parts of your code "
   ]
  },
  {
   "cell_type": "code",
   "execution_count": 32,
   "id": "49aba111",
   "metadata": {},
   "outputs": [
    {
     "name": "stdout",
     "output_type": "stream",
     "text": [
      "The addition of two numbers is 529 \n"
     ]
    }
   ],
   "source": [
    "number = 23\n",
    "number2= 56\n",
    "print(f\"The addition of two numbers is {number*number} \")"
   ]
  },
  {
   "cell_type": "code",
   "execution_count": null,
   "id": "d62a5c59",
   "metadata": {},
   "outputs": [],
   "source": []
  },
  {
   "cell_type": "code",
   "execution_count": null,
   "id": "16d4bda9",
   "metadata": {},
   "outputs": [],
   "source": []
  }
 ],
 "metadata": {
  "kernelspec": {
   "display_name": "Python 3 (ipykernel)",
   "language": "python",
   "name": "python3"
  },
  "language_info": {
   "codemirror_mode": {
    "name": "ipython",
    "version": 3
   },
   "file_extension": ".py",
   "mimetype": "text/x-python",
   "name": "python",
   "nbconvert_exporter": "python",
   "pygments_lexer": "ipython3",
   "version": "3.11.4"
  }
 },
 "nbformat": 4,
 "nbformat_minor": 5
}
